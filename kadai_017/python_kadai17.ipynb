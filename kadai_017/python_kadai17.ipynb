{
  "nbformat": 4,
  "nbformat_minor": 0,
  "metadata": {
    "colab": {
      "provenance": []
    },
    "kernelspec": {
      "name": "python3",
      "display_name": "Python 3"
    },
    "language_info": {
      "name": "python"
    }
  },
  "cells": [
    {
      "cell_type": "code",
      "execution_count": 22,
      "metadata": {
        "colab": {
          "base_uri": "https://localhost:8080/"
        },
        "id": "igrZZguxkLiW",
        "outputId": "2b8e11b0-f3d4-46e9-fe95-ea4442f79dc2"
      },
      "outputs": [
        {
          "output_type": "stream",
          "name": "stdout",
          "text": [
            "侍太郎は大人です\n",
            "侍花子は大人ではありません\n",
            "侍次郎は大人です\n"
          ]
        }
      ],
      "source": [
        "class Human:\n",
        "  def __init__(self, name, age):\n",
        "    self.name = name\n",
        "    self.age = age\n",
        "\n",
        "  def check_adult(self):\n",
        "    if self.age >= 20:\n",
        "      print(f\"{self.name}は大人です\")\n",
        "    else:\n",
        "      print(f\"{self.name}は大人ではありません\")\n",
        "\n",
        "user1 = Human(\"侍太郎\",20)\n",
        "user2 = Human(\"侍花子\",15)\n",
        "user3 = Human(\"侍次郎\",30)\n",
        "\n",
        "users = [user1, user2, user3]\n",
        "\n",
        "for user in users:\n",
        "  user.check_adult()"
      ]
    },
    {
      "cell_type": "code",
      "source": [],
      "metadata": {
        "id": "klP0UiTtmram"
      },
      "execution_count": null,
      "outputs": []
    }
  ]
}