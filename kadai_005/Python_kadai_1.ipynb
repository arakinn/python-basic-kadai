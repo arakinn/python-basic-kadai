{
  "nbformat": 4,
  "nbformat_minor": 0,
  "metadata": {
    "colab": {
      "provenance": []
    },
    "kernelspec": {
      "name": "python3",
      "display_name": "Python 3"
    },
    "language_info": {
      "name": "python"
    }
  },
  "cells": [
    {
      "cell_type": "code",
      "execution_count": 2,
      "metadata": {
        "colab": {
          "base_uri": "https://localhost:8080/"
        },
        "id": "NTSLHPLwliUt",
        "outputId": "e75747f2-1fda-479d-da06-d06092fe6a9d"
      },
      "outputs": [
        {
          "output_type": "stream",
          "name": "stdout",
          "text": [
            "75.0cm²\n"
          ]
        }
      ],
      "source": [
        "top_side = 10\n",
        "bottom_side = 20\n",
        "height = 5\n",
        "\n",
        "#公式：台形の面積 =（上辺＋下辺）× 高さ ÷ 2\n",
        "result = (top_side + bottom_side) * height / 2\n",
        "print(str(result) + \"cm²\")"
      ]
    }
  ]
}