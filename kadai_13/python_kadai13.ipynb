{
  "nbformat": 4,
  "nbformat_minor": 0,
  "metadata": {
    "colab": {
      "provenance": []
    },
    "kernelspec": {
      "name": "python3",
      "display_name": "Python 3"
    },
    "language_info": {
      "name": "python"
    }
  },
  "cells": [
    {
      "cell_type": "code",
      "execution_count": 5,
      "metadata": {
        "colab": {
          "base_uri": "https://localhost:8080/"
        },
        "id": "6ADwQvqOXGVc",
        "outputId": "38fe0164-69c3-4474-b7b6-564ca2f646de"
      },
      "outputs": [
        {
          "output_type": "stream",
          "name": "stdout",
          "text": [
            "税込220.0円\n"
          ]
        }
      ],
      "source": [
        "def get_total_price(price, tax_rate):\n",
        "  return price + (price * tax_rate / 100)\n",
        "\n",
        "print(f\"税込{get_total_price(200, 10)}円\")"
      ]
    }
  ]
}