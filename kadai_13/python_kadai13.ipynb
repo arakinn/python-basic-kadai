{
  "nbformat": 4,
  "nbformat_minor": 0,
  "metadata": {
    "colab": {
      "provenance": []
    },
    "kernelspec": {
      "name": "python3",
      "display_name": "Python 3"
    },
    "language_info": {
      "name": "python"
    }
  },
  "cells": [
    {
      "cell_type": "code",
      "execution_count": 2,
      "metadata": {
        "colab": {
          "base_uri": "https://localhost:8080/"
        },
        "id": "6ADwQvqOXGVc",
        "outputId": "9f1aef7e-8146-4fd6-ca7e-4625d20f6689"
      },
      "outputs": [
        {
          "output_type": "stream",
          "name": "stdout",
          "text": [
            "220.0\n"
          ]
        }
      ],
      "source": [
        "def get_total_price(price, tax_rate):\n",
        "  return price + (price * tax_rate)\n",
        "\n",
        "print(get_total_price(200, 0.1))"
      ]
    }
  ]
}